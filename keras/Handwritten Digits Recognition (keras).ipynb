{
 "cells": [
  {
   "cell_type": "code",
   "execution_count": 1,
   "metadata": {},
   "outputs": [
    {
     "name": "stderr",
     "output_type": "stream",
     "text": [
      "C:\\ProgramData\\Anaconda3\\lib\\site-packages\\h5py\\__init__.py:36: FutureWarning: Conversion of the second argument of issubdtype from `float` to `np.floating` is deprecated. In future, it will be treated as `np.float64 == np.dtype(float).type`.\n",
      "  from ._conv import register_converters as _register_converters\n",
      "Using TensorFlow backend.\n"
     ]
    }
   ],
   "source": [
    "#importing packages\n",
    "import keras\n",
    "from keras.datasets import mnist\n",
    "from keras.models import Sequential\n",
    "from keras.layers import Dense"
   ]
  },
  {
   "cell_type": "code",
   "execution_count": 2,
   "metadata": {},
   "outputs": [],
   "source": [
    "from sklearn.model_selection import train_test_split"
   ]
  },
  {
   "cell_type": "code",
   "execution_count": 3,
   "metadata": {},
   "outputs": [],
   "source": [
    "import matplotlib.pyplot as plt"
   ]
  },
  {
   "cell_type": "code",
   "execution_count": 4,
   "metadata": {},
   "outputs": [
    {
     "name": "stdout",
     "output_type": "stream",
     "text": [
      "Downloading data from https://s3.amazonaws.com/img-datasets/mnist.npz\n",
      "11493376/11490434 [==============================] - 24s 2us/step\n"
     ]
    }
   ],
   "source": [
    "(xtrain, ytrain), (xtest, ytest) = mnist.load_data()"
   ]
  },
  {
   "cell_type": "code",
   "execution_count": 5,
   "metadata": {},
   "outputs": [],
   "source": [
    "xtrain, xtest = xtrain/255.0, xtest/255.0"
   ]
  },
  {
   "cell_type": "code",
   "execution_count": 6,
   "metadata": {},
   "outputs": [],
   "source": [
    "xtrain = xtrain.reshape(-1,784)\n",
    "xtest = xtest.reshape(-1,784)"
   ]
  },
  {
   "cell_type": "code",
   "execution_count": 9,
   "metadata": {},
   "outputs": [
    {
     "data": {
      "text/plain": [
       "<matplotlib.image.AxesImage at 0x241885ca978>"
      ]
     },
     "execution_count": 9,
     "metadata": {},
     "output_type": "execute_result"
    },
    {
     "data": {
      "image/png": "[encoded data removed]",
      "text/plain": [
       "<matplotlib.figure.Figure at 0x2418853eb70>"
      ]
     },
     "metadata": {},
     "output_type": "display_data"
    }
   ],
   "source": [
    "plt.imshow(xtrain[2].reshape(28, 28), cmap = 'Greys')"
   ]
  },
  {
   "cell_type": "code",
   "execution_count": 10,
   "metadata": {},
   "outputs": [
    {
     "data": {
      "text/plain": [
       "(60000, 784)"
      ]
     },
     "execution_count": 10,
     "metadata": {},
     "output_type": "execute_result"
    }
   ],
   "source": [
    "xtrain.shape"
   ]
  },
  {
   "cell_type": "code",
   "execution_count": 13,
   "metadata": {},
   "outputs": [],
   "source": [
    "#model architecture\n",
    "model = Sequential([Dense(32, activation = 'relu', input_shape = (xtrain.shape[1],)),\n",
    "                   Dense(10, activation = 'softmax')])"
   ]
  },
  {
   "cell_type": "code",
   "execution_count": 14,
   "metadata": {},
   "outputs": [
    {
     "name": "stdout",
     "output_type": "stream",
     "text": [
      "_________________________________________________________________\n",
      "Layer (type)                 Output Shape              Param #   \n",
      "=================================================================\n",
      "dense_4 (Dense)              (None, 32)                25120     \n",
      "_________________________________________________________________\n",
      "dense_5 (Dense)              (None, 10)                330       \n",
      "=================================================================\n",
      "Total params: 25,450\n",
      "Trainable params: 25,450\n",
      "Non-trainable params: 0\n",
      "_________________________________________________________________\n"
     ]
    }
   ],
   "source": [
    "model.summary()"
   ]
  },
  {
   "cell_type": "code",
   "execution_count": 15,
   "metadata": {},
   "outputs": [],
   "source": [
    "model.compile(loss = 'sparse_categorical_crossentropy',\n",
    "             optimizer = \"adam\",\n",
    "             metrics = ['accuracy'])"
   ]
  },
  {
   "cell_type": "code",
   "execution_count": 16,
   "metadata": {},
   "outputs": [
    {
     "name": "stdout",
     "output_type": "stream",
     "text": [
      "WARNING:tensorflow:From C:\\ProgramData\\Anaconda3\\lib\\site-packages\\tensorflow\\python\\ops\\math_ops.py:3066: to_int32 (from tensorflow.python.ops.math_ops) is deprecated and will be removed in a future version.\n",
      "Instructions for updating:\n",
      "Use tf.cast instead.\n",
      "Train on 48000 samples, validate on 12000 samples\n",
      "Epoch 1/30\n",
      "48000/48000 [==============================] - 4s 85us/step - loss: 0.3857 - acc: 0.8948 - val_loss: 0.2225 - val_acc: 0.9367\n",
      "Epoch 2/30\n",
      "48000/48000 [==============================] - 4s 77us/step - loss: 0.2018 - acc: 0.9413 - val_loss: 0.1715 - val_acc: 0.9521\n",
      "Epoch 3/30\n",
      "48000/48000 [==============================] - 4s 77us/step - loss: 0.1587 - acc: 0.9538 - val_loss: 0.1582 - val_acc: 0.9540\n",
      "Epoch 4/30\n",
      "48000/48000 [==============================] - 4s 76us/step - loss: 0.1328 - acc: 0.9609 - val_loss: 0.1441 - val_acc: 0.9592\n",
      "Epoch 5/30\n",
      "48000/48000 [==============================] - 4s 76us/step - loss: 0.1167 - acc: 0.9653 - val_loss: 0.1309 - val_acc: 0.9604\n",
      "Epoch 6/30\n",
      "48000/48000 [==============================] - 4s 76us/step - loss: 0.1026 - acc: 0.9695 - val_loss: 0.1269 - val_acc: 0.9628\n",
      "Epoch 7/30\n",
      "48000/48000 [==============================] - 4s 76us/step - loss: 0.0919 - acc: 0.9720 - val_loss: 0.1300 - val_acc: 0.9611\n",
      "Epoch 8/30\n",
      "48000/48000 [==============================] - 4s 76us/step - loss: 0.0839 - acc: 0.9745 - val_loss: 0.1199 - val_acc: 0.9648\n",
      "Epoch 9/30\n",
      "48000/48000 [==============================] - 4s 75us/step - loss: 0.0756 - acc: 0.9772 - val_loss: 0.1250 - val_acc: 0.9636\n",
      "Epoch 10/30\n",
      "48000/48000 [==============================] - 4s 75us/step - loss: 0.0690 - acc: 0.9782 - val_loss: 0.1277 - val_acc: 0.9633\n",
      "Epoch 11/30\n",
      "48000/48000 [==============================] - 4s 75us/step - loss: 0.0641 - acc: 0.9815 - val_loss: 0.1213 - val_acc: 0.9643\n",
      "Epoch 12/30\n",
      "48000/48000 [==============================] - 4s 75us/step - loss: 0.0596 - acc: 0.9822 - val_loss: 0.1211 - val_acc: 0.9666\n",
      "Epoch 13/30\n",
      "48000/48000 [==============================] - 4s 75us/step - loss: 0.0557 - acc: 0.9830 - val_loss: 0.1190 - val_acc: 0.9672\n",
      "Epoch 14/30\n",
      "48000/48000 [==============================] - 4s 74us/step - loss: 0.0512 - acc: 0.9841 - val_loss: 0.1225 - val_acc: 0.9670\n",
      "Epoch 15/30\n",
      "48000/48000 [==============================] - 4s 74us/step - loss: 0.0486 - acc: 0.9850 - val_loss: 0.1277 - val_acc: 0.9644\n",
      "Epoch 16/30\n",
      "48000/48000 [==============================] - 4s 75us/step - loss: 0.0443 - acc: 0.9864 - val_loss: 0.1248 - val_acc: 0.9657\n",
      "Epoch 17/30\n",
      "48000/48000 [==============================] - 4s 75us/step - loss: 0.0426 - acc: 0.9868 - val_loss: 0.1292 - val_acc: 0.9649\n",
      "Epoch 18/30\n",
      "48000/48000 [==============================] - 4s 75us/step - loss: 0.0387 - acc: 0.9883 - val_loss: 0.1304 - val_acc: 0.9653\n",
      "Epoch 19/30\n",
      "48000/48000 [==============================] - 4s 74us/step - loss: 0.0361 - acc: 0.9894 - val_loss: 0.1325 - val_acc: 0.9653\n",
      "Epoch 20/30\n",
      "48000/48000 [==============================] - 4s 74us/step - loss: 0.0353 - acc: 0.9890 - val_loss: 0.1341 - val_acc: 0.9657\n",
      "Epoch 21/30\n",
      "48000/48000 [==============================] - 4s 73us/step - loss: 0.0328 - acc: 0.9901 - val_loss: 0.1343 - val_acc: 0.9662\n",
      "Epoch 22/30\n",
      "48000/48000 [==============================] - 4s 74us/step - loss: 0.0305 - acc: 0.9904 - val_loss: 0.1369 - val_acc: 0.9661\n",
      "Epoch 23/30\n",
      "48000/48000 [==============================] - 4s 73us/step - loss: 0.0287 - acc: 0.9912 - val_loss: 0.1351 - val_acc: 0.9663\n",
      "Epoch 24/30\n",
      "48000/48000 [==============================] - 4s 74us/step - loss: 0.0266 - acc: 0.9920 - val_loss: 0.1387 - val_acc: 0.9663\n",
      "Epoch 25/30\n",
      "48000/48000 [==============================] - 4s 74us/step - loss: 0.0255 - acc: 0.9922 - val_loss: 0.1452 - val_acc: 0.9652\n",
      "Epoch 26/30\n",
      "48000/48000 [==============================] - 4s 73us/step - loss: 0.0239 - acc: 0.9924 - val_loss: 0.1479 - val_acc: 0.9653\n",
      "Epoch 27/30\n",
      "48000/48000 [==============================] - 4s 74us/step - loss: 0.0220 - acc: 0.9938 - val_loss: 0.1482 - val_acc: 0.9645\n",
      "Epoch 28/30\n",
      "48000/48000 [==============================] - 4s 73us/step - loss: 0.0214 - acc: 0.9934 - val_loss: 0.1493 - val_acc: 0.9654\n",
      "Epoch 29/30\n",
      "48000/48000 [==============================] - 3s 73us/step - loss: 0.0191 - acc: 0.9943 - val_loss: 0.1582 - val_acc: 0.9643\n",
      "Epoch 30/30\n",
      "48000/48000 [==============================] - 3s 73us/step - loss: 0.0194 - acc: 0.9943 - val_loss: 0.1526 - val_acc: 0.9659\n"
     ]
    }
   ],
   "source": [
    "history = model.fit(xtrain, ytrain, epochs = 30, validation_split = 0.2, verbose = 1)"
   ]
  },
  {
   "cell_type": "code",
   "execution_count": 17,
   "metadata": {},
   "outputs": [
    {
     "data": {
      "text/plain": [
       "dict_keys(['val_loss', 'val_acc', 'loss', 'acc'])"
      ]
     },
     "execution_count": 17,
     "metadata": {},
     "output_type": "execute_result"
    }
   ],
   "source": [
    "history.history.keys()"
   ]
  },
  {
   "cell_type": "code",
   "execution_count": 18,
   "metadata": {},
   "outputs": [
    {
     "data": {
      "text/plain": [
       "[<matplotlib.lines.Line2D at 0x2418ba0e710>,\n",
       " <matplotlib.lines.Line2D at 0x2418ba0e860>,\n",
       " <matplotlib.lines.Line2D at 0x2418ba0ecf8>,\n",
       " <matplotlib.lines.Line2D at 0x2418ba08438>]"
      ]
     },
     "execution_count": 18,
     "metadata": {},
     "output_type": "execute_result"
    },
    {
     "data": {
      "image/png": "[encoded data removed]",
      "text/plain": [
       "<matplotlib.figure.Figure at 0x2418b96eba8>"
      ]
     },
     "metadata": {},
     "output_type": "display_data"
    }
   ],
   "source": [
    "plt.plot(history.epoch, history.history['loss'],\n",
    "        history.epoch, history.history['acc'],\n",
    "        history.epoch, history.history['val_loss'],\n",
    "        history.epoch, history.history['val_acc'])"
   ]
  },
  {
   "cell_type": "code",
   "execution_count": 19,
   "metadata": {},
   "outputs": [
    {
     "name": "stdout",
     "output_type": "stream",
     "text": [
      "10000/10000 [==============================] - 0s 31us/step\n"
     ]
    },
    {
     "data": {
      "text/plain": [
       "[0.14920733828611554, 0.9672]"
      ]
     },
     "execution_count": 19,
     "metadata": {},
     "output_type": "execute_result"
    }
   ],
   "source": [
    "model.evaluate(xtest, ytest)"
   ]
  },
  {
   "cell_type": "code",
   "execution_count": null,
   "metadata": {},
   "outputs": [],
   "source": []
  }
 ],
 "metadata": {
  "kernelspec": {
   "display_name": "Python 3",
   "language": "python",
   "name": "python3"
  },
  "language_info": {
   "codemirror_mode": {
    "name": "ipython",
    "version": 3
   },
   "file_extension": ".py",
   "mimetype": "text/x-python",
   "name": "python",
   "nbconvert_exporter": "python",
   "pygments_lexer": "ipython3",
   "version": "3.6.4"
  }
 },
 "nbformat": 4,
 "nbformat_minor": 2
}
