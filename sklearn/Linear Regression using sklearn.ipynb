{
 "cells": [
  {
   "cell_type": "code",
   "execution_count": 4,
   "metadata": {},
   "outputs": [],
   "source": [
    "import numpy as np\n",
    "import pandas as pd\n",
    "import matplotlib.pyplot as plt\n",
    "\n",
    "from sklearn.datasets import load_boston\n",
    "from sklearn.model_selection import train_test_split"
   ]
  },
  {
   "cell_type": "code",
   "execution_count": 11,
   "metadata": {},
   "outputs": [],
   "source": [
    "boston = load_boston()"
   ]
  },
  {
   "cell_type": "code",
   "execution_count": 12,
   "metadata": {},
   "outputs": [
    {
     "name": "stdout",
     "output_type": "stream",
     "text": [
      "dict_keys(['data', 'target', 'feature_names', 'DESCR'])\n"
     ]
    }
   ],
   "source": [
    "print(boston.keys())"
   ]
  },
  {
   "cell_type": "code",
   "execution_count": 13,
   "metadata": {},
   "outputs": [
    {
     "name": "stdout",
     "output_type": "stream",
     "text": [
      "Boston House Prices dataset\n",
      "===========================\n",
      "\n",
      "Notes\n",
      "------\n",
      "Data Set Characteristics:  \n",
      "\n",
      "    :Number of Instances: 506 \n",
      "\n",
      "    :Number of Attributes: 13 numeric/categorical predictive\n",
      "    \n",
      "    :Median Value (attribute 14) is usually the target\n",
      "\n",
      "    :Attribute Information (in order):\n",
      "        - CRIM     per capita crime rate by town\n",
      "        - ZN       proportion of residential land zoned for lots over 25,000 sq.ft.\n",
      "        - INDUS    proportion of non-retail business acres per town\n",
      "        - CHAS     Charles River dummy variable (= 1 if tract bounds river; 0 otherwise)\n",
      "        - NOX      nitric oxides concentration (parts per 10 million)\n",
      "        - RM       average number of rooms per dwelling\n",
      "        - AGE      proportion of owner-occupied units built prior to 1940\n",
      "        - DIS      weighted distances to five Boston employment centres\n",
      "        - RAD      index of accessibility to radial highways\n",
      "        - TAX      full-value property-tax rate per $10,000\n",
      "        - PTRATIO  pupil-teacher ratio by town\n",
      "        - B        1000(Bk - 0.63)^2 where Bk is the proportion of blacks by town\n",
      "        - LSTAT    % lower status of the population\n",
      "        - MEDV     Median value of owner-occupied homes in $1000's\n",
      "\n",
      "    :Missing Attribute Values: None\n",
      "\n",
      "    :Creator: Harrison, D. and Rubinfeld, D.L.\n",
      "\n",
      "This is a copy of UCI ML housing dataset.\n",
      "http://archive.ics.uci.edu/ml/datasets/Housing\n",
      "\n",
      "\n",
      "This dataset was taken from the StatLib library which is maintained at Carnegie Mellon University.\n",
      "\n",
      "The Boston house-price data of Harrison, D. and Rubinfeld, D.L. 'Hedonic\n",
      "prices and the demand for clean air', J. Environ. Economics & Management,\n",
      "vol.5, 81-102, 1978.   Used in Belsley, Kuh & Welsch, 'Regression diagnostics\n",
      "...', Wiley, 1980.   N.B. Various transformations are used in the table on\n",
      "pages 244-261 of the latter.\n",
      "\n",
      "The Boston house-price data has been used in many machine learning papers that address regression\n",
      "problems.   \n",
      "     \n",
      "**References**\n",
      "\n",
      "   - Belsley, Kuh & Welsch, 'Regression diagnostics: Identifying Influential Data and Sources of Collinearity', Wiley, 1980. 244-261.\n",
      "   - Quinlan,R. (1993). Combining Instance-Based and Model-Based Learning. In Proceedings on the Tenth International Conference of Machine Learning, 236-243, University of Massachusetts, Amherst. Morgan Kaufmann.\n",
      "   - many more! (see http://archive.ics.uci.edu/ml/datasets/Housing)\n",
      "\n"
     ]
    }
   ],
   "source": [
    "print(boston.DESCR)"
   ]
  },
  {
   "cell_type": "code",
   "execution_count": 15,
   "metadata": {},
   "outputs": [],
   "source": [
    "features = pd.DataFrame(boston.data, columns = boston.feature_names)\n",
    "target = pd.DataFrame(boston.target, columns = ['TARGET'])\n",
    "\n",
    "df = pd.concat([features, target], axis = 1)"
   ]
  },
  {
   "cell_type": "code",
   "execution_count": 16,
   "metadata": {},
   "outputs": [],
   "source": [
    "X = np.array(df['RM'])\n",
    "Y = np.array(df['TARGET'])"
   ]
  },
  {
   "cell_type": "code",
   "execution_count": 17,
   "metadata": {},
   "outputs": [],
   "source": [
    "from sklearn.preprocessing import MinMaxScaler            #normalization"
   ]
  },
  {
   "cell_type": "code",
   "execution_count": 29,
   "metadata": {},
   "outputs": [],
   "source": [
    "scaler = MinMaxScaler()"
   ]
  },
  {
   "cell_type": "code",
   "execution_count": 30,
   "metadata": {},
   "outputs": [],
   "source": [
    "X = X.reshape(-1,1)\n",
    "Y = Y.reshape(-1,1)"
   ]
  },
  {
   "cell_type": "code",
   "execution_count": 31,
   "metadata": {},
   "outputs": [
    {
     "data": {
      "text/plain": [
       "(506, 1)"
      ]
     },
     "execution_count": 31,
     "metadata": {},
     "output_type": "execute_result"
    }
   ],
   "source": [
    "X.shape"
   ]
  },
  {
   "cell_type": "code",
   "execution_count": 33,
   "metadata": {},
   "outputs": [],
   "source": [
    "x = scaler.fit_transform(X)\n",
    "y = scaler.fit_transform(Y)"
   ]
  },
  {
   "cell_type": "code",
   "execution_count": 34,
   "metadata": {},
   "outputs": [
    {
     "data": {
      "text/plain": [
       "[<matplotlib.lines.Line2D at 0x1f4b742fb00>]"
      ]
     },
     "execution_count": 34,
     "metadata": {},
     "output_type": "execute_result"
    },
    {
     "data": {
      "image/png": "[encoded data removed]",
      "text/plain": [
       "<matplotlib.figure.Figure at 0x1f4b72645f8>"
      ]
     },
     "metadata": {},
     "output_type": "display_data"
    }
   ],
   "source": [
    "plt.plot(x,y,'r.')"
   ]
  },
  {
   "cell_type": "code",
   "execution_count": 35,
   "metadata": {},
   "outputs": [],
   "source": [
    "from sklearn.model_selection import train_test_split"
   ]
  },
  {
   "cell_type": "code",
   "execution_count": 36,
   "metadata": {},
   "outputs": [],
   "source": [
    "xtrain, xtest, ytrain, ytest = train_test_split(x, y, test_size = 0.3)"
   ]
  },
  {
   "cell_type": "code",
   "execution_count": 37,
   "metadata": {},
   "outputs": [],
   "source": [
    "from sklearn.linear_model import LinearRegression"
   ]
  },
  {
   "cell_type": "code",
   "execution_count": 39,
   "metadata": {},
   "outputs": [],
   "source": [
    "regressor = LinearRegression()"
   ]
  },
  {
   "cell_type": "code",
   "execution_count": 40,
   "metadata": {},
   "outputs": [
    {
     "data": {
      "text/plain": [
       "LinearRegression(copy_X=True, fit_intercept=True, n_jobs=1, normalize=False)"
      ]
     },
     "execution_count": 40,
     "metadata": {},
     "output_type": "execute_result"
    }
   ],
   "source": [
    "regressor.fit(xtrain, ytrain)         #training the model"
   ]
  },
  {
   "cell_type": "code",
   "execution_count": 41,
   "metadata": {},
   "outputs": [],
   "source": [
    "#intercept = b (y intercept in hypothesis equation)"
   ]
  },
  {
   "cell_type": "code",
   "execution_count": 42,
   "metadata": {},
   "outputs": [],
   "source": [
    "y_pred = regressor.predict(xtest)"
   ]
  },
  {
   "cell_type": "code",
   "execution_count": 43,
   "metadata": {},
   "outputs": [
    {
     "data": {
      "text/plain": [
       "array([[ 0.76513373],\n",
       "       [ 0.33519353],\n",
       "       [ 0.34844157],\n",
       "       [ 0.32919051],\n",
       "       [ 0.13150497],\n",
       "       [ 0.90382411],\n",
       "       [ 0.34719956],\n",
       "       [ 0.31449347],\n",
       "       [ 0.3589986 ],\n",
       "       [ 0.55399314],\n",
       "       [ 0.40826473],\n",
       "       [ 0.41550975],\n",
       "       [ 0.7208356 ],\n",
       "       [ 0.26709034],\n",
       "       [ 0.51838904],\n",
       "       [ 0.42275477],\n",
       "       [ 0.3956377 ],\n",
       "       [ 0.38797868],\n",
       "       [ 0.40060571],\n",
       "       [ 0.59373725],\n",
       "       [ 0.54447111],\n",
       "       [ 0.26398533],\n",
       "       [ 0.44159183],\n",
       "       [ 0.48920196],\n",
       "       [ 0.39915671],\n",
       "       [ 0.38715068],\n",
       "       [ 0.34016155],\n",
       "       [ 0.43455381],\n",
       "       [ 0.29979643],\n",
       "       [ 0.31428647],\n",
       "       [ 0.60636428],\n",
       "       [ 0.28220138],\n",
       "       [ 0.32836251],\n",
       "       [ 0.24473428],\n",
       "       [ 0.4331048 ],\n",
       "       [ 0.40929974],\n",
       "       [ 0.30414344],\n",
       "       [ 0.44428283],\n",
       "       [ 0.42316878],\n",
       "       [ 0.31118146],\n",
       "       [ 0.49913799],\n",
       "       [ 0.31325147],\n",
       "       [ 0.31925449],\n",
       "       [ 0.74215666],\n",
       "       [ 0.29379342],\n",
       "       [ 0.34471556],\n",
       "       [ 0.45090685],\n",
       "       [ 0.46311989],\n",
       "       [ 0.32898351],\n",
       "       [ 0.13957799],\n",
       "       [ 0.36727862],\n",
       "       [ 0.39149769],\n",
       "       [ 0.27433536],\n",
       "       [ 0.37245363],\n",
       "       [ 0.42337578],\n",
       "       [ 0.40950674],\n",
       "       [ 0.36541562],\n",
       "       [ 0.38445967],\n",
       "       [ 0.42648078],\n",
       "       [ 0.26067332],\n",
       "       [ 0.69413253],\n",
       "       [ 0.42813679],\n",
       "       [ 0.48361294],\n",
       "       [ 0.47553992],\n",
       "       [ 0.28468539],\n",
       "       [ 0.91955616],\n",
       "       [ 0.50596901],\n",
       "       [ 0.40867874],\n",
       "       [ 0.33705654],\n",
       "       [ 0.38404567],\n",
       "       [ 0.29172341],\n",
       "       [ 0.59994727],\n",
       "       [ 0.37038363],\n",
       "       [ 0.29482842],\n",
       "       [ 0.37079763],\n",
       "       [ 0.28385739],\n",
       "       [ 0.47698893],\n",
       "       [ 0.37390264],\n",
       "       [ 0.40640173],\n",
       "       [ 0.43807282],\n",
       "       [ 0.57262319],\n",
       "       [ 0.4662249 ],\n",
       "       [ 0.3225665 ],\n",
       "       [ 0.31718448],\n",
       "       [ 0.32008249],\n",
       "       [ 0.42917179],\n",
       "       [ 0.51300703],\n",
       "       [ 0.50182899],\n",
       "       [ 0.50845301],\n",
       "       [ 0.35754959],\n",
       "       [ 0.43558881],\n",
       "       [ 0.58939024],\n",
       "       [ 0.67736548],\n",
       "       [ 0.52211505],\n",
       "       [ 0.24804629],\n",
       "       [ 0.11701492],\n",
       "       [ 0.27123035],\n",
       "       [ 0.58152422],\n",
       "       [ 0.22237822],\n",
       "       [ 0.45028585],\n",
       "       [ 0.38238966],\n",
       "       [ 0.26005232],\n",
       "       [ 0.30062444],\n",
       "       [ 0.31739148],\n",
       "       [ 0.49934499],\n",
       "       [ 0.39087669],\n",
       "       [ 0.41613076],\n",
       "       [ 0.42275477],\n",
       "       [ 0.39170469],\n",
       "       [ 0.35382358],\n",
       "       [ 0.34802757],\n",
       "       [ 0.5384681 ],\n",
       "       [ 0.51466303],\n",
       "       [-0.09826567],\n",
       "       [ 0.31801248],\n",
       "       [ 0.45690987],\n",
       "       [ 0.44552484],\n",
       "       [ 0.29379342],\n",
       "       [ 0.5409521 ],\n",
       "       [ 0.44366183],\n",
       "       [ 0.3948097 ],\n",
       "       [ 0.30331544],\n",
       "       [ 0.50596901],\n",
       "       [ 0.34595756],\n",
       "       [ 0.81957488],\n",
       "       [ 0.3229805 ],\n",
       "       [ 0.71710959],\n",
       "       [ 0.25508431],\n",
       "       [ 0.35051157],\n",
       "       [ 0.46063588],\n",
       "       [ 0.22051521],\n",
       "       [ 0.38404567],\n",
       "       [ 0.38176866],\n",
       "       [ 0.19443314],\n",
       "       [ 0.38735768],\n",
       "       [ 0.40971374],\n",
       "       [ 0.12943496],\n",
       "       [ 0.31697748],\n",
       "       [ 0.15634503],\n",
       "       [ 0.37348864],\n",
       "       [ 0.38590867],\n",
       "       [ 0.28323639],\n",
       "       [ 0.54612712],\n",
       "       [ 0.41820076],\n",
       "       [ 0.33353753],\n",
       "       [ 0.37038363],\n",
       "       [ 0.31035346],\n",
       "       [ 0.34699256],\n",
       "       [ 0.34492256],\n",
       "       [ 0.44386883],\n",
       "       [ 0.34968357],\n",
       "       [ 0.3960517 ]])"
      ]
     },
     "execution_count": 43,
     "metadata": {},
     "output_type": "execute_result"
    }
   ],
   "source": [
    "y_pred"
   ]
  },
  {
   "cell_type": "code",
   "execution_count": 44,
   "metadata": {},
   "outputs": [
    {
     "name": "stdout",
     "output_type": "stream",
     "text": [
      "(array([0.76513373]), array([1.]))\n",
      "(array([0.33519353]), array([0.08444444]))\n",
      "(array([0.34844157]), array([0.31555556]))\n",
      "(array([0.32919051]), array([0.29555556]))\n",
      "(array([0.13150497]), array([0.24666667]))\n",
      "(array([0.90382411]), array([1.]))\n",
      "(array([0.34719956]), array([0.38888889]))\n",
      "(array([0.31449347]), array([0.18444444]))\n",
      "(array([0.3589986]), array([0.21111111]))\n",
      "(array([0.55399314]), array([0.57111111]))\n",
      "(array([0.40826473]), array([0.34888889]))\n",
      "(array([0.41550975]), array([0.38888889]))\n",
      "(array([0.7208356]), array([0.86222222]))\n",
      "(array([0.26709034]), array([0.23555556]))\n",
      "(array([0.51838904]), array([0.55777778]))\n",
      "(array([0.42275477]), array([0.1]))\n",
      "(array([0.3956377]), array([0.34666667]))\n",
      "(array([0.38797868]), array([0.28444444]))\n",
      "(array([0.40060571]), array([0.42444444]))\n",
      "(array([0.59373725]), array([0.7]))\n",
      "(array([0.54447111]), array([0.12]))\n",
      "(array([0.26398533]), array([0.23777778]))\n",
      "(array([0.44159183]), array([0.18]))\n",
      "(array([0.48920196]), array([0.25333333]))\n",
      "(array([0.39915671]), array([0.36888889]))\n",
      "(array([0.38715068]), array([0.14888889]))\n",
      "(array([0.34016155]), array([0.42888889]))\n",
      "(array([0.43455381]), array([0.40444444]))\n",
      "(array([0.29979643]), array([0.33333333]))\n",
      "(array([0.31428647]), array([0.35777778]))\n",
      "(array([0.60636428]), array([0.62666667]))\n",
      "(array([0.28220138]), array([0.18]))\n",
      "(array([0.32836251]), array([0.23555556]))\n",
      "(array([0.24473428]), array([0.16222222]))\n",
      "(array([0.4331048]), array([0.52666667]))\n",
      "(array([0.40929974]), array([0.43555556]))\n",
      "(array([0.30414344]), array([0.38666667]))\n",
      "(array([0.44428283]), array([0.26]))\n",
      "(array([0.42316878]), array([0.40222222]))\n",
      "(array([0.31118146]), array([0.33333333]))\n",
      "(array([0.49913799]), array([0.18666667]))\n",
      "(array([0.31325147]), array([0.32222222]))\n",
      "(array([0.31925449]), array([0.31333333]))\n",
      "(array([0.74215666]), array([1.]))\n",
      "(array([0.29379342]), array([0.23555556]))\n",
      "(array([0.34471556]), array([0.31333333]))\n",
      "(array([0.45090685]), array([0.40222222]))\n",
      "(array([0.46311989]), array([0.42222222]))\n",
      "(array([0.32898351]), array([0.32444444]))\n",
      "(array([0.13957799]), array([0.22888889]))\n",
      "(array([0.36727862]), array([0.39111111]))\n",
      "(array([0.39149769]), array([0.32]))\n",
      "(array([0.27433536]), array([0.29333333]))\n",
      "(array([0.37245363]), array([0.31777778]))\n",
      "(array([0.42337578]), array([0.43777778]))\n",
      "(array([0.40950674]), array([0.38222222]))\n",
      "(array([0.36541562]), array([0.18666667]))\n",
      "(array([0.38445967]), array([0.37111111]))\n",
      "(array([0.42648078]), array([0.44444444]))\n",
      "(array([0.26067332]), array([0.23111111]))\n",
      "(array([0.69413253]), array([0.67111111]))\n",
      "(array([0.42813679]), array([0.26888889]))\n",
      "(array([0.48361294]), array([0.35555556]))\n",
      "(array([0.47553992]), array([0.39555556]))\n",
      "(array([0.28468539]), array([0.33555556]))\n",
      "(array([0.91955616]), array([0.37555556]))\n",
      "(array([0.50596901]), array([0.6]))\n",
      "(array([0.40867874]), array([0.36]))\n",
      "(array([0.33705654]), array([0.24444444]))\n",
      "(array([0.38404567]), array([0.19555556]))\n",
      "(array([0.29172341]), array([0.07777778]))\n",
      "(array([0.59994727]), array([0.69111111]))\n",
      "(array([0.37038363]), array([0.42]))\n",
      "(array([0.29482842]), array([0.37333333]))\n",
      "(array([0.37079763]), array([0.26666667]))\n",
      "(array([0.28385739]), array([0.32]))\n",
      "(array([0.47698893]), array([0.52666667]))\n",
      "(array([0.37390264]), array([0.32888889]))\n",
      "(array([0.40640173]), array([0.22]))\n",
      "(array([0.43807282]), array([0.26888889]))\n",
      "(array([0.57262319]), array([0.62222222]))\n",
      "(array([0.4662249]), array([0.37777778]))\n",
      "(array([0.3225665]), array([0.07333333]))\n",
      "(array([0.31718448]), array([0.37777778]))\n",
      "(array([0.32008249]), array([0.30222222]))\n",
      "(array([0.42917179]), array([0.26]))\n",
      "(array([0.51300703]), array([0.59111111]))\n",
      "(array([0.50182899]), array([0.44444444]))\n",
      "(array([0.50845301]), array([0.18444444]))\n",
      "(array([0.35754959]), array([0.39555556]))\n",
      "(array([0.43558881]), array([0.39777778]))\n",
      "(array([0.58939024]), array([0.66]))\n",
      "(array([0.67736548]), array([0.82888889]))\n",
      "(array([0.52211505]), array([0.55333333]))\n",
      "(array([0.24804629]), array([0.14]))\n",
      "(array([0.11701492]), array([0.15111111]))\n",
      "(array([0.27123035]), array([0.35111111]))\n",
      "(array([0.58152422]), array([0.69333333]))\n",
      "(array([0.22237822]), array([0.41555556]))\n",
      "(array([0.45028585]), array([0.33777778]))\n",
      "(array([0.38238966]), array([0.20222222]))\n",
      "(array([0.26005232]), array([0.27555556]))\n",
      "(array([0.30062444]), array([0.34]))\n",
      "(array([0.31739148]), array([0.34666667]))\n",
      "(array([0.49934499]), array([0.41555556]))\n",
      "(array([0.39087669]), array([0.34444444]))\n",
      "(array([0.41613076]), array([0.21111111]))\n",
      "(array([0.42275477]), array([0.18]))\n",
      "(array([0.39170469]), array([0.33555556]))\n",
      "(array([0.35382358]), array([0.21777778]))\n",
      "(array([0.34802757]), array([0.36]))\n",
      "(array([0.5384681]), array([0.48]))\n",
      "(array([0.51466303]), array([0.07555556]))\n",
      "(array([-0.09826567]), array([0.40222222]))\n",
      "(array([0.31801248]), array([0.34]))\n",
      "(array([0.45690987]), array([0.13111111]))\n",
      "(array([0.44552484]), array([0.39777778]))\n",
      "(array([0.29379342]), array([0.22222222]))\n",
      "(array([0.5409521]), array([0.48222222]))\n",
      "(array([0.44366183]), array([0.41555556]))\n",
      "(array([0.3948097]), array([0.40888889]))\n",
      "(array([0.30331544]), array([0.26222222]))\n",
      "(array([0.50596901]), array([0.05555556]))\n",
      "(array([0.34595756]), array([0.30888889]))\n",
      "(array([0.81957488]), array([1.]))\n",
      "(array([0.3229805]), array([0.27111111]))\n",
      "(array([0.71710959]), array([1.]))\n",
      "(array([0.25508431]), array([0.19111111]))\n",
      "(array([0.35051157]), array([0.32]))\n",
      "(array([0.46063588]), array([0.61111111]))\n",
      "(array([0.22051521]), array([0.18666667]))\n",
      "(array([0.38404567]), array([0.13333333]))\n",
      "(array([0.38176866]), array([0.44444444]))\n",
      "(array([0.19443314]), array([0.04888889]))\n",
      "(array([0.38735768]), array([0.36444444]))\n",
      "(array([0.40971374]), array([0.32222222]))\n",
      "(array([0.12943496]), array([0.37555556]))\n",
      "(array([0.31697748]), array([0.32222222]))\n",
      "(array([0.15634503]), array([0.06888889]))\n",
      "(array([0.37348864]), array([0.22666667]))\n",
      "(array([0.38590867]), array([0.13111111]))\n",
      "(array([0.28323639]), array([0.26888889]))\n",
      "(array([0.54612712]), array([0.42]))\n",
      "(array([0.41820076]), array([0.38222222]))\n",
      "(array([0.33353753]), array([0.34222222]))\n",
      "(array([0.37038363]), array([0.34222222]))\n",
      "(array([0.31035346]), array([0.11555556]))\n",
      "(array([0.34699256]), array([0.27777778]))\n",
      "(array([0.34492256]), array([0.30888889]))\n",
      "(array([0.44386883]), array([0.53555556]))\n",
      "(array([0.34968357]), array([0.26222222]))\n",
      "(array([0.3960517]), array([0.16888889]))\n"
     ]
    }
   ],
   "source": [
    "for i in zip(y_pred, ytest):                #creating tuple to compare ytest and ypred\n",
    "    print(i) "
   ]
  },
  {
   "cell_type": "code",
   "execution_count": 45,
   "metadata": {},
   "outputs": [],
   "source": [
    "from sklearn.metrics import mean_squared_error, r2_score"
   ]
  },
  {
   "cell_type": "code",
   "execution_count": 47,
   "metadata": {},
   "outputs": [
    {
     "data": {
      "text/plain": [
       "0.02208233392753459"
      ]
     },
     "execution_count": 47,
     "metadata": {},
     "output_type": "execute_result"
    }
   ],
   "source": [
    "mean_squared_error(ytest, y_pred)"
   ]
  },
  {
   "cell_type": "code",
   "execution_count": 48,
   "metadata": {},
   "outputs": [
    {
     "data": {
      "text/plain": [
       "Text(0.5,1,'Linear Regression (Train)')"
      ]
     },
     "execution_count": 48,
     "metadata": {},
     "output_type": "execute_result"
    },
    {
     "data": {
      "image/png": "[encoded data removed]",
      "text/plain": [
       "<matplotlib.figure.Figure at 0x1f4b8ce53c8>"
      ]
     },
     "metadata": {},
     "output_type": "display_data"
    }
   ],
   "source": [
    "plt.scatter(xtrain, ytrain, color = 'red')\n",
    "plt.plot(xtrain, regressor.predict(xtrain), 'b')\n",
    "\n",
    "plt.xlabel('RM')\n",
    "plt.ylabel('TARGET')\n",
    "plt.title(\"Linear Regression (Train)\")"
   ]
  },
  {
   "cell_type": "code",
   "execution_count": 50,
   "metadata": {},
   "outputs": [
    {
     "data": {
      "text/plain": [
       "Text(0.5,1,'Linear Regression (Test)')"
      ]
     },
     "execution_count": 50,
     "metadata": {},
     "output_type": "execute_result"
    },
    {
     "data": {
      "image/png": "[encoded data removed]",
      "text/plain": [
       "<matplotlib.figure.Figure at 0x1f4b8d3f048>"
      ]
     },
     "metadata": {},
     "output_type": "display_data"
    }
   ],
   "source": [
    "plt.scatter(xtrain, ytrain, color = 'red')\n",
    "plt.plot(xtrain, regressor.predict(xtrain), 'b')\n",
    "\n",
    "plt.xlabel('RM')\n",
    "plt.ylabel('TARGET')\n",
    "plt.title(\"Linear Regression (Test)\")"
   ]
  },
  {
   "cell_type": "code",
   "execution_count": 53,
   "metadata": {},
   "outputs": [
    {
     "data": {
      "text/plain": [
       "0.39487000686087614"
      ]
     },
     "execution_count": 53,
     "metadata": {},
     "output_type": "execute_result"
    }
   ],
   "source": [
    "r2_score(ytest, y_pred)        #how much dataset is fit by the model (39% of the data points are fit properly)"
   ]
  },
  {
   "cell_type": "code",
   "execution_count": null,
   "metadata": {},
   "outputs": [],
   "source": [
    "#absolute_r2"
   ]
  }
 ],
 "metadata": {
  "kernelspec": {
   "display_name": "Python 3",
   "language": "python",
   "name": "python3"
  },
  "language_info": {
   "codemirror_mode": {
    "name": "ipython",
    "version": 3
   },
   "file_extension": ".py",
   "mimetype": "text/x-python",
   "name": "python",
   "nbconvert_exporter": "python",
   "pygments_lexer": "ipython3",
   "version": "3.6.4"
  }
 },
 "nbformat": 4,
 "nbformat_minor": 2
}
