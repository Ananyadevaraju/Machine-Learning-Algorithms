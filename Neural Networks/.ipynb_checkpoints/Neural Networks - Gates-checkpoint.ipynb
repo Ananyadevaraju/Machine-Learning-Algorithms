{
 "cells": [
  {
   "cell_type": "code",
   "execution_count": 1,
   "metadata": {},
   "outputs": [],
   "source": [
    "import numpy as np\n",
    "import pandas as pd\n",
    "import matplotlib.pyplot as plt\n",
    "\n",
    "from sklearn.model_selection import train_test_split"
   ]
  },
  {
   "cell_type": "code",
   "execution_count": 2,
   "metadata": {},
   "outputs": [],
   "source": [
    "input_data = np.array([[0,0,0],\n",
    "                       [0,1,0],\n",
    "                       [1,1,0],\n",
    "                       [1,0,0],\n",
    "                       [1,1,1],\n",
    "                       [1,0,1]])"
   ]
  },
  {
   "cell_type": "code",
   "execution_count": 4,
   "metadata": {},
   "outputs": [],
   "source": [
    "output_data = np.array([[0],\n",
    "                        [1],\n",
    "                        [0],\n",
    "                        [1],\n",
    "                        [1],\n",
    "                        [0]])"
   ]
  },
  {
   "cell_type": "code",
   "execution_count": 5,
   "metadata": {},
   "outputs": [],
   "source": [
    "def sigmoid(x):\n",
    "    return (1)/(1 + np.exp(-x))"
   ]
  },
  {
   "cell_type": "code",
   "execution_count": 6,
   "metadata": {},
   "outputs": [],
   "source": [
    "def dsigmoid(x):\n",
    "    return x*(1-x)"
   ]
  },
  {
   "cell_type": "code",
   "execution_count": 7,
   "metadata": {},
   "outputs": [],
   "source": [
    "np.random.seed(3)   #generates a value between 3\n",
    "w0 = np.random.random((3,4)) -1  #between layers 0 and 1\n",
    "w1 = np.random.random((4,2)) -1  #between layers 1 and 2\n",
    "w2 = np.random.random((2,1)) -1\n",
    "\n",
    "b0 = np.random.random((1,1)) -1\n",
    "b1 = np.random.random((1,1)) -1\n",
    "b2 = np.random.random((1,1)) -1"
   ]
  },
  {
   "cell_type": "code",
   "execution_count": 12,
   "metadata": {},
   "outputs": [],
   "source": [
    "def feed_forward(data_in, w0, w1, w2, b0, b1, b2):\n",
    "    layer0 = data_in\n",
    "    layer1 = sigmoid(np.dot(layer0, w0)+b0)\n",
    "    layer2 = sigmoid(np.dot(layer1, w1)+b1)\n",
    "    layer3 = sigmoid(np.dot(layer2, w2)+b2)\n",
    "    \n",
    "    return layer0, layer1, layer2, layer3"
   ]
  },
  {
   "cell_type": "code",
   "execution_count": 17,
   "metadata": {},
   "outputs": [],
   "source": [
    "def back_propagation(layer0, layer1, layer2, layer3, actual_y, w0, w1, w2, b0, b1, b2, learning_rate, i):\n",
    "    \n",
    "    l3_error = layer3 - actual_y\n",
    "    l3_delta = l3_error * dsigmoid(layer3)\n",
    "    dh3 = np.dot(layer2.T, l3_delta)\n",
    "    \n",
    "    l2_error = np.dot(l3_delta, w2.T)\n",
    "    l2_delta = l2_error * dsigmoid(layer2)\n",
    "    dh2 = np.dot(layer1.T, l2_delta)\n",
    "    \n",
    "    l1_error = np.dot(l2_delta, w1.T)\n",
    "    l1_delta = l1_error * dsigmoid(layer1)\n",
    "    dh1 = np.dot(layer0.T, l1_delta)\n",
    "    \n",
    "    w2 = w2 - (learning_rate * dh3)\n",
    "    w1 = w1 - (learning_rate * dh2)\n",
    "    w0 = w0 - (learning_rate * dh1)\n",
    "    \n",
    "    b2 = b2 - (learning_rate * np.mean(l3_delta))\n",
    "    b1 = b1 - (learning_rate * np.mean(l2_delta))\n",
    "    b0 = b0 - (learning_rate * np.mean(l1_delta))\n",
    "    \n",
    "    if i%1 == 0 and (i!=0):\n",
    "        loss = np.mean(np.power(layer3 - actual_y, 2))\n",
    "        loss_curve.append(loss)\n",
    "        iters.append(int(i))\n",
    "        \n",
    "        if i%1 == 0:\n",
    "            print('\\n', int(i), loss)\n",
    "            \n",
    "    return w0, w1, w2, b0, b1, b2"
   ]
  },
  {
   "cell_type": "code",
   "execution_count": 18,
   "metadata": {},
   "outputs": [],
   "source": [
    "def accuracy(testx, testy):\n",
    "    correct = 0\n",
    "    layer0, layer1, layer2, layer3 = feed_forward(testx, w0, w1, w2, b0, b1, b2)\n",
    "    for i in range(len(testx)):\n",
    "        if np.argmax(layer3[i]) == np.argmax(testy[i]):\n",
    "            correct += 1\n",
    "            \n",
    "    return f\"Accuracy: {correct * 100 / len(testy)}\"       "
   ]
  },
  {
   "cell_type": "code",
   "execution_count": 19,
   "metadata": {},
   "outputs": [],
   "source": [
    "epochs = 10\n",
    "loss_curve = []\n",
    "iters = []"
   ]
  },
  {
   "cell_type": "code",
   "execution_count": 20,
   "metadata": {},
   "outputs": [
    {
     "name": "stdout",
     "output_type": "stream",
     "text": [
      "\n",
      " 1 0.27685886438068713\n",
      "\n",
      " 2 0.27664760884304046\n",
      "\n",
      " 3 0.27643770170877263\n",
      "\n",
      " 4 0.27622913902252283\n",
      "\n",
      " 5 0.2760219167690405\n",
      "\n",
      " 6 0.2758160308743365\n",
      "\n",
      " 7 0.2756114772068298\n",
      "\n",
      " 8 0.27540825157849164\n",
      "\n",
      " 9 0.27520634974598485\n"
     ]
    }
   ],
   "source": [
    "for i in range(epochs):\n",
    "    layer0, layer1, layer2, layer3 = feed_forward(input_data, w0, w1, w2, b0, b1, b2)\n",
    "    w0, w1, w2, b0, b1, b2 = back_propagation(layer0, layer1, layer2, layer3, output_data, w0, w1, w2, b0, b1, b2, 0.05, i)"
   ]
  },
  {
   "cell_type": "code",
   "execution_count": 21,
   "metadata": {},
   "outputs": [
    {
     "data": {
      "text/plain": [
       "'Accuracy: 100.0'"
      ]
     },
     "execution_count": 21,
     "metadata": {},
     "output_type": "execute_result"
    }
   ],
   "source": [
    "accuracy([[0,1,1]], [[0]])"
   ]
  },
  {
   "cell_type": "code",
   "execution_count": 22,
   "metadata": {},
   "outputs": [
    {
     "data": {
      "text/plain": [
       "[<matplotlib.lines.Line2D at 0x2cd192694a8>]"
      ]
     },
     "execution_count": 22,
     "metadata": {},
     "output_type": "execute_result"
    },
    {
     "data": {
      "image/png": "[encoded data removed]",
      "text/plain": [
       "<matplotlib.figure.Figure at 0x2cd18fe87f0>"
      ]
     },
     "metadata": {},
     "output_type": "display_data"
    }
   ],
   "source": [
    "plt.plot(iters, loss_curve)"
   ]
  },
  {
   "cell_type": "code",
   "execution_count": 23,
   "metadata": {},
   "outputs": [
    {
     "data": {
      "text/plain": [
       "([0, 1, 1],\n",
       " array([[0.16615787, 0.22785187, 0.08300204, 0.13085718]]),\n",
       " array([[0.23927599, 0.23652255]]),\n",
       " array([[0.3391048]]))"
      ]
     },
     "execution_count": 23,
     "metadata": {},
     "output_type": "execute_result"
    }
   ],
   "source": [
    "feed_forward([0,1,1], w0, w1, w2, b0, b1, b2)"
   ]
  },
  {
   "cell_type": "code",
   "execution_count": null,
   "metadata": {},
   "outputs": [],
   "source": []
  }
 ],
 "metadata": {
  "kernelspec": {
   "display_name": "Python 3",
   "language": "python",
   "name": "python3"
  },
  "language_info": {
   "codemirror_mode": {
    "name": "ipython",
    "version": 3
   },
   "file_extension": ".py",
   "mimetype": "text/x-python",
   "name": "python",
   "nbconvert_exporter": "python",
   "pygments_lexer": "ipython3",
   "version": "3.6.4"
  }
 },
 "nbformat": 4,
 "nbformat_minor": 2
}
